{
 "cells": [
  {
   "cell_type": "markdown",
   "id": "666937f3",
   "metadata": {},
   "source": [
    "### Homework\n",
    "\n",
    "\n",
    "Homework (Try to implement Masked Autoencoder strategy by transformer architecture for image classification (MNIST)) \n",
    " <span style=\"color:red\">(Deadline is 28th April, 2024 18:00)</span>  \n",
    " \n",
    "\n",
    "First of all, you need to read the MAE paper: https://arxiv.org/abs/2111.06377\n",
    "\n",
    " <img src=\"./MAE.png\" width=\"400\" height=\"200\">\n",
    " \n",
    "Using MAE method to reconstruct the image (unsupervised learning).\n",
    "\n",
    "Your tasks is to use the original image is your input (first line), and the output is the recontructed images (second line) (Note: it is not a classification task anymore)\n",
    "\n",
    "<img src=\"./homework.png\" width=\"400\" height=\"200\">"
   ]
  },
  {
   "cell_type": "markdown",
   "id": "561db316",
   "metadata": {},
   "source": [
    "Option: You can also use your trained model , and adapt your neural network for image classificaton (supervised learning)"
   ]
  }
 ],
 "metadata": {
  "kernelspec": {
   "display_name": "Python 3 (ipykernel)",
   "language": "python",
   "name": "python3"
  },
  "language_info": {
   "codemirror_mode": {
    "name": "ipython",
    "version": 3
   },
   "file_extension": ".py",
   "mimetype": "text/x-python",
   "name": "python",
   "nbconvert_exporter": "python",
   "pygments_lexer": "ipython3",
   "version": "3.10.9"
  }
 },
 "nbformat": 4,
 "nbformat_minor": 5
}
